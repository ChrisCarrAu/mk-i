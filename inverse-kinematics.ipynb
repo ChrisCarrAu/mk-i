{
 "cells": [
  {
   "cell_type": "code",
   "execution_count": 17,
   "metadata": {},
   "outputs": [
    {
     "name": "stdout",
     "output_type": "stream",
     "text": [
      "theta..: (90.00, -17.99, 51.84)\n",
      "servo..: (0.00, 0.15, 0.29)\n"
     ]
    }
   ],
   "source": [
    "from math import isnan\n",
    "from numpy import sqrt, arccos, arcsin, arctan, arctan2, rad2deg\n",
    "\n",
    "R_SHOULDER = 43.0   # shoulder width in mm\n",
    "R_THIGH = 44.0      # arm length in mm\n",
    "R_FORELEG = 52.8    # hand length in mm\n",
    "\n",
    "x = -2\n",
    "y = -61\n",
    "z = R_SHOULDER\n",
    "shoulder = 90\n",
    "\n",
    "r_xz = sqrt(x**2 + z**2)\n",
    "\n",
    "# Shoulder angle\n",
    "theta_0 = shoulder\n",
    "\n",
    "# Thigh angle\n",
    "phi_3 = rad2deg(arccos((R_THIGH**2 + r_xz**2 - R_FORELEG**2) / (2 * R_THIGH * r_xz)))\n",
    "phi_4 = rad2deg(arctan2(x, z)) - 90     # Rotate 90 degrees so that 0 degrees is horizontal facing front\n",
    "theta_1 = phi_3 + phi_4      # eqn 4 converted to degrees\n",
    "\n",
    "# Foreleg angle\n",
    "phi_5 = arccos((R_FORELEG**2 + R_THIGH**2 - r_xz**2) / (2 * R_THIGH * R_FORELEG))\n",
    "theta_2 = rad2deg(phi_5)\n",
    "\n",
    "# Convert degrees into servo location (0 .. 1)\n",
    "servo_angle_shoulder = (90 - theta_0) / 90                                # Shoulder starts at 90 degrees rotation\n",
    "servo_angle_thigh = (theta_1 + 20) / 180.0   # Thigh is -90 because horizontal plane\n",
    "servo_angle_foreleg = theta_2 / 180.0 \n",
    "\n",
    "# return theta_1, theta_2\n",
    "print(F'theta..: ({theta_0:.2f}, {theta_1:.2f}, {theta_2:.2f})')\n",
    "print(F'servo..: ({servo_angle_shoulder:.2f}, {servo_angle_thigh:.2f}, {servo_angle_foreleg:.2f})')"
   ]
  },
  {
   "cell_type": "code",
   "execution_count": 16,
   "metadata": {},
   "outputs": [
    {
     "name": "stdout",
     "output_type": "stream",
     "text": [
      "servo angle shoulder:  0.0060456916523332575\n",
      "servo angle thigh(F):  0.46436425835505163\n",
      "servo angle thigh(R):  0.21436425835505163\n",
      "servo angle lowerleg:  0.9213928715125873\n"
     ]
    }
   ],
   "source": [
    "# Convert degrees into servo location (0 .. 1)\n",
    "servo_angle_shoulder = (theta_0 - 90) / 180                                # Shoulder starts at 90 degrees rotation\n",
    "servo_angle_thigh_front = (theta_1 + 180 + 45) / 180.0   # Thigh is +180 because horizontal plane\n",
    "servo_angle_thigh_back = (theta_1 + 180) / 180.0   # Thigh is +180 because horizontal plane\n",
    "servo_angle_lowerleg = (theta_2 + 90) / 180.0                               # Foreleg is +90 because already vertical plane\n",
    "\n"
   ]
  }
 ],
 "metadata": {
  "interpreter": {
   "hash": "e7370f93d1d0cde622a1f8e1c04877d8463912d04d973331ad4851f04de6915a"
  },
  "kernelspec": {
   "display_name": "Python 3.9.2 32-bit",
   "language": "python",
   "name": "python3"
  },
  "language_info": {
   "codemirror_mode": {
    "name": "ipython",
    "version": 3
   },
   "file_extension": ".py",
   "mimetype": "text/x-python",
   "name": "python",
   "nbconvert_exporter": "python",
   "pygments_lexer": "ipython3",
   "version": "3.9.2"
  },
  "orig_nbformat": 4
 },
 "nbformat": 4,
 "nbformat_minor": 2
}
