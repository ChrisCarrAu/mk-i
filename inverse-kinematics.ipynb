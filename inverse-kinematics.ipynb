{
 "cells": [
  {
   "cell_type": "code",
   "execution_count": 22,
   "metadata": {},
   "outputs": [
    {
     "name": "stdout",
     "output_type": "stream",
     "text": [
      "R.total:  67.4166151627327\n",
      "R.leg..:  51.92301994298868\n",
      "theta 0:  90.0\n",
      "theta 1:  54.15676332149415\n",
      "theta 2:  62.774998005818134\n"
     ]
    }
   ],
   "source": [
    "from math import isnan\n",
    "from numpy import sqrt, arccos, arcsin, arctan, arctan2, rad2deg\n",
    "\n",
    "R_SHOULDER = 43.0  # shoulder width in mm\n",
    "R_THIGH = 43.0  # arm length in mm\n",
    "R_FORELEG = 54.8  # hand length in mm\n",
    "\n",
    "x = 50\n",
    "y = R_SHOULDER\n",
    "z = -14\n",
    "\n",
    "r_xz = sqrt(x**2 + z**2)                     # radius (x, z)\n",
    "r_total = sqrt(x**2 + y**2 + z**2)           # radius from (0,0,0) - where the shoulder attaches to the body\n",
    "r_leg = sqrt(r_total**2 - R_SHOULDER**2)     # radius from (0,R_SHOULDER,0) - thigh and foreleg\n",
    "if isnan(r_leg): raise RuntimeError(F'Invalid leg position when calculating radii ({x}, {y}, {z})')\n",
    "\n",
    "# Shoulder angle\n",
    "phi_1 = arccos(R_SHOULDER / r_total)\n",
    "phi_2 = arccos(r_xz / r_total)\n",
    "theta_0 = rad2deg(phi_1 + phi_2)\n",
    "\n",
    "# thigh angle\n",
    "phi_3 = arccos((R_THIGH**2 + r_leg**2 - R_FORELEG**2) / (2 * R_THIGH * r_leg))\n",
    "phi_4 = arctan2(z, x)\n",
    "theta_1 = rad2deg(phi_3 + phi_4)  # eqn 4 converted to degrees\n",
    "\n",
    "# foot angle\n",
    "phi_4 = arccos((R_FORELEG**2 + R_THIGH**2 - r_leg**2) / (2 * R_THIGH * R_FORELEG))\n",
    "theta_2 = rad2deg(phi_4)\n",
    "\n",
    "# Convert degrees into servo location (0 .. 1)\n",
    "servo_angle_shoulder = (theta_0 - 90) / 180                                # Shoulder starts at 90 degrees rotation\n",
    "servo_angle_thigh = (90 - theta_1) / 180.0          # Thigh is +180 because horizontal plane\n",
    "servo_angle_foreleg = (180 - theta_2) / 180.0                               # Foreleg is +90 because already vertical plane\n",
    "\n",
    "# print('R.xy...: ', xy_radius)\n",
    "print('R.total: ', r_total)\n",
    "print('R.leg..: ', r_leg)\n",
    "\n",
    "# return theta_1, theta_2\n",
    "print('theta 0: ', theta_0)\n",
    "print('theta 1: ', theta_1)\n",
    "print('theta 2: ', theta_2)\n"
   ]
  },
  {
   "cell_type": "code",
   "execution_count": 16,
   "metadata": {},
   "outputs": [
    {
     "name": "stdout",
     "output_type": "stream",
     "text": [
      "servo angle shoulder:  0.0060456916523332575\n",
      "servo angle thigh(F):  0.46436425835505163\n",
      "servo angle thigh(R):  0.21436425835505163\n",
      "servo angle lowerleg:  0.9213928715125873\n"
     ]
    }
   ],
   "source": [
    "# Convert degrees into servo location (0 .. 1)\n",
    "servo_angle_shoulder = (theta_0 - 90) / 180                                # Shoulder starts at 90 degrees rotation\n",
    "servo_angle_thigh_front = (theta_1 + 180 + 45) / 180.0   # Thigh is +180 because horizontal plane\n",
    "servo_angle_thigh_back = (theta_1 + 180) / 180.0   # Thigh is +180 because horizontal plane\n",
    "servo_angle_lowerleg = (theta_2 + 90) / 180.0                               # Foreleg is +90 because already vertical plane\n",
    "\n",
    "print('servo angle shoulder: ', servo_angle_shoulder)\n",
    "print('servo angle thigh(F): ', servo_angle_thigh_front)\n",
    "print('servo angle thigh(R): ', servo_angle_thigh_back)\n",
    "print('servo angle lowerleg: ', servo_angle_lowerleg)"
   ]
  }
 ],
 "metadata": {
  "interpreter": {
   "hash": "e7370f93d1d0cde622a1f8e1c04877d8463912d04d973331ad4851f04de6915a"
  },
  "kernelspec": {
   "display_name": "Python 3.9.2 32-bit",
   "language": "python",
   "name": "python3"
  },
  "language_info": {
   "codemirror_mode": {
    "name": "ipython",
    "version": 3
   },
   "file_extension": ".py",
   "mimetype": "text/x-python",
   "name": "python",
   "nbconvert_exporter": "python",
   "pygments_lexer": "ipython3",
   "version": "3.9.2"
  },
  "orig_nbformat": 4
 },
 "nbformat": 4,
 "nbformat_minor": 2
}
